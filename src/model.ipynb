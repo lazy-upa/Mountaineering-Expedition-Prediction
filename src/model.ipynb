{
 "cells": [
  {
   "cell_type": "code",
   "execution_count": 237,
   "id": "f166b21d",
   "metadata": {},
   "outputs": [],
   "source": [
    "import pandas as pd\n",
    "\n",
    "expedition_data = pd.read_csv(\"../datasets/EXPEDITION_DATA.csv\", encoding='cp1252')\n",
    "peaks_data = pd.read_csv(\"../datasets/PEAKS_DATA.csv\")\n",
    "\n",
    "merged_data = pd.merge(left=expedition_data, right=peaks_data, how='inner', on='PEAKID')"
   ]
  },
  {
   "cell_type": "code",
   "execution_count": 238,
   "id": "b3aaf42a",
   "metadata": {},
   "outputs": [],
   "source": [
    "merged_data.loc[:, 'TOTALDEATHS'] = merged_data['MDEATHS'] + merged_data['HDEATHS']\n",
    "merged_data.loc[:, 'SUCCESS'] =  merged_data['SUCCESS1'].astype(bool) | merged_data['SUCCESS2'].astype(bool)"
   ]
  },
  {
   "cell_type": "code",
   "execution_count": 239,
   "id": "39f95bcd",
   "metadata": {},
   "outputs": [],
   "source": [
    "df = merged_data[['PEAKID', 'EXPID', 'YEAR', 'SEASON', 'SEASON_FACTOR', 'HOST', 'HOST_FACTOR',\n",
    "                  'ROUTE1', 'ROUTE2', 'ROUTE3', 'ROUTE4', 'TOTMEMBERS', 'TERMREASON_FACTOR', 'O2USED', 'O2NONE', 'NOHIRED',\n",
    "                  'TOTALDEATHS', 'PKNAME', 'PKNAME2', 'HEIGHTM', 'HEIGHTF', 'HIMAL_FACTOR',\n",
    "                  'REGION_FACTOR', 'OPEN', 'PYEAR', 'PSTATUS_FACTOR', 'PSMTDATE']]"
   ]
  },
  {
   "cell_type": "code",
   "execution_count": 240,
   "id": "445a6ffa",
   "metadata": {},
   "outputs": [
    {
     "data": {
      "text/plain": [
       "array(['Everest', 'Ama Dablam', 'Baruntse', 'Cho Oyu', 'Gyalzen Peak',\n",
       "       'Himlung Himal', 'Kyungka Ri 2', 'Luza', 'Manaslu', 'Annapurna I',\n",
       "       'Dhaulagiri I', 'Kangchung Shar', 'Lhotse', 'Makalu', 'Pumori',\n",
       "       'Tilicho', 'Tengkangpoche', 'Tukuche', 'Annapurna III', 'Chamlang',\n",
       "       'Chekigo', 'Chobuje', 'Cholatse', 'Dolma Khang', 'Dorje Lhakpa',\n",
       "       'Gyajikang', 'Jannu', 'Kangchenjunga', 'Kangtega', 'Langdung',\n",
       "       'Mariyang', 'Omitso Go', 'Omoga Ri Chang', 'Panbari',\n",
       "       'Purbung Himal', 'Purkhung', 'Putha Hiunchuli', 'Rokapi',\n",
       "       'Surma-Sarovar North', 'Tengkoma', 'Amphu Gyabjen', 'Annapurna IV',\n",
       "       'Dorje Lakpa II', 'Gangapurna', 'Kangchung Nup', 'Nuptse East I',\n",
       "       'Nuptse', 'Phu Kang', 'Pokharkang', 'Ratna Chuli', 'Saula',\n",
       "       'Tengi Ragi Tau South', 'Bhemdang Ri', 'Bhrikuti Shail',\n",
       "       'Chandi Himal', 'Chukyima Go', 'Chumbu', 'Chulu West',\n",
       "       'Dhaulagiri II', 'Dogari', 'Ganchenpo', 'Hongku Chuli', 'Hongku',\n",
       "       'Jannu East', 'Khatung Khang', 'Lamjung Himal', 'Langtang Lirung',\n",
       "       'Lachama Chuli', 'Lachama North', 'Lunag Ri', 'Metalung',\n",
       "       'Nagoru Far East', 'Panalotapa', 'Phungi', 'Ripimo Shar',\n",
       "       'Sat Peak', 'Shershon', 'Sita Chuchura', 'Thamserku', 'Bhrikuti',\n",
       "       'Goldum Peak', 'Jarkya', 'Kabru South', 'Kirat Chuli',\n",
       "       'Langtang Yubra', 'Langpo South', 'Lobuche East', 'Takphu Himal',\n",
       "       'Tengi Ragi Tau', 'Tutse', 'Anidesh Chuli', 'Chhopa Bamare',\n",
       "       'Cho Polu', 'Drohmo', 'Hulang Go', 'Jugal 5', 'Khangri Shar',\n",
       "       'Khamjung', 'Khayang', 'Makalu II', 'Malanphulan', 'Nemjung',\n",
       "       'Phole', 'Phurbi Chhyachu', 'Raksha Urai', 'Rolwaling Kang',\n",
       "       'Sharphu VI', 'Yansa Tsenji', 'Hungchhi', 'Jugal 1', 'Jugal 2',\n",
       "       'Jugal 3', 'Kyabura', 'Lingtren', 'Patrasi Himal', 'Yalung Peak'],\n",
       "      dtype=object)"
      ]
     },
     "execution_count": 240,
     "metadata": {},
     "output_type": "execute_result"
    }
   ],
   "source": [
    "df['PKNAME'].unique()"
   ]
  },
  {
   "cell_type": "code",
   "execution_count": 241,
   "id": "ddad1b6b",
   "metadata": {},
   "outputs": [],
   "source": [
    "from category_encoders import TargetEncoder\n",
    "from sklearn.model_selection import train_test_split\n",
    "from sklearn.linear_model import LogisticRegression\n",
    "import matplotlib.pyplot as plt\n",
    "from sklearn.metrics import accuracy_score, r2_score, recall_score, precision_score, f1_score, roc_auc_score,  roc_curve"
   ]
  },
  {
   "cell_type": "code",
   "execution_count": 242,
   "id": "64d3d151",
   "metadata": {},
   "outputs": [],
   "source": [
    "features = ['PKNAME', 'O2USED', 'SEASON', 'NOHIRED']\n",
    "target = 'SUCCESS'\n",
    "\n",
    "X = df[features]\n",
    "y = merged_data[target]\n",
    "\n",
    "X_train, X_test, y_train, y_test = train_test_split(X, y, test_size=0.2, random_state=42)"
   ]
  },
  {
   "cell_type": "code",
   "execution_count": 243,
   "id": "6ded743b",
   "metadata": {},
   "outputs": [],
   "source": [
    "encoder = TargetEncoder()\n",
    "X_train_encoded = encoder.fit_transform(X_train, y_train)\n",
    "X_test_encoded = encoder.transform(X_test)"
   ]
  },
  {
   "cell_type": "code",
   "execution_count": 244,
   "id": "182197c6",
   "metadata": {},
   "outputs": [],
   "source": [
    "model = LogisticRegression()\n",
    "model.fit(X_train_encoded, y_train)\n",
    "\n",
    "y_pred = model.predict(X_test_encoded)"
   ]
  },
  {
   "cell_type": "code",
   "execution_count": 245,
   "id": "2e0787e0",
   "metadata": {},
   "outputs": [
    {
     "name": "stdout",
     "output_type": "stream",
     "text": [
      "{'Accuracy': 0.7288135593220338, 'Recall': 0.8709677419354839, 'Precision': 0.7714285714285715, 'F1': 0.8181818181818182}\n"
     ]
    }
   ],
   "source": [
    "metrics = {\n",
    "        'Accuracy': accuracy_score(y_test, y_pred),\n",
    "        'Recall': recall_score(y_test, y_pred),\n",
    "        'Precision': precision_score(y_test, y_pred),\n",
    "        'F1': f1_score(y_test, y_pred)\n",
    "    }\n",
    "\n",
    "print(metrics)"
   ]
  },
  {
   "cell_type": "code",
   "execution_count": 246,
   "id": "5a315444",
   "metadata": {},
   "outputs": [
    {
     "name": "stdout",
     "output_type": "stream",
     "text": [
      "Probability of Success on test data: 0.94\n"
     ]
    }
   ],
   "source": [
    "y_probs = model.predict_proba(X_test_encoded)[:, 1]\n",
    "fpr, tpr, thresholds = roc_curve(y_test, y_probs)\n",
    "auc_score = roc_auc_score(y_test, y_probs)\n",
    "print(f\"Probability of Success on test data: {y_probs[0]:.2f}\")"
   ]
  },
  {
   "cell_type": "code",
   "execution_count": 247,
   "id": "f7404935",
   "metadata": {},
   "outputs": [
    {
     "data": {
      "image/png": "[encoded data removed]",
      "text/plain": [
       "<Figure size 800x600 with 1 Axes>"
      ]
     },
     "metadata": {},
     "output_type": "display_data"
    }
   ],
   "source": [
    "plt.figure(figsize=(8, 6))\n",
    "plt.plot(fpr, tpr, label=f\"ROC Curve (AUC = {auc_score:.2f})\", color='red')\n",
    "plt.plot([0, 1], [0, 1], color='black')\n",
    "plt.xlabel(\"False Positive Rate\")\n",
    "plt.ylabel(\"True Positive Rate\")\n",
    "plt.title(\"Receiver Operating Characteristic (ROC) Curve\")\n",
    "plt.legend()\n",
    "plt.grid(True)\n",
    "plt.show()"
   ]
  },
  {
   "cell_type": "code",
   "execution_count": 248,
   "id": "99031485",
   "metadata": {},
   "outputs": [
    {
     "data": {
      "text/plain": [
       "{'fit_time': array([0.0070684 , 0.0069232 , 0.00929332]),\n",
       " 'score_time': array([0.00290942, 0.00428605, 0.00273967]),\n",
       " 'test_score': array([0.82978723, 0.84255319, 0.84255319])}"
      ]
     },
     "execution_count": 248,
     "metadata": {},
     "output_type": "execute_result"
    }
   ],
   "source": [
    "from sklearn.model_selection import cross_validate\n",
    "\n",
    "cv_scores = cross_validate(model, X_train_encoded, y_train, cv=3, scoring='accuracy')\n",
    "cv_scores"
   ]
  },
  {
   "cell_type": "code",
   "execution_count": 249,
   "id": "1e3e49d6",
   "metadata": {},
   "outputs": [
    {
     "data": {
      "text/plain": [
       "{'fit_time': array([0.00638032, 0.00591159, 0.00724816]),\n",
       " 'score_time': array([0.0050714 , 0.00691295, 0.00492716]),\n",
       " 'test_score': array([0.88636364, 0.89518414, 0.89275362])}"
      ]
     },
     "execution_count": 249,
     "metadata": {},
     "output_type": "execute_result"
    }
   ],
   "source": [
    "cv_scores = cross_validate(model, X_train_encoded, y_train, cv=3, scoring='f1')\n",
    "cv_scores"
   ]
  },
  {
   "cell_type": "code",
   "execution_count": 250,
   "id": "cb230e89",
   "metadata": {},
   "outputs": [
    {
     "data": {
      "text/plain": [
       "{'fit_time': array([0.00753284, 0.00600672, 0.00771785]),\n",
       " 'score_time': array([0.00534606, 0.00605822, 0.00578022]),\n",
       " 'test_score': array([0.92857143, 0.94047619, 0.91666667])}"
      ]
     },
     "execution_count": 250,
     "metadata": {},
     "output_type": "execute_result"
    }
   ],
   "source": [
    "cv_scores = cross_validate(model, X_train_encoded, y_train, cv=3, scoring='recall')\n",
    "cv_scores"
   ]
  },
  {
   "cell_type": "code",
   "execution_count": 251,
   "id": "9102408e",
   "metadata": {},
   "outputs": [
    {
     "data": {
      "text/plain": [
       "{'fit_time': array([0.00864697, 0.00919509, 0.01217294]),\n",
       " 'score_time': array([0.00650978, 0.00670958, 0.00910306]),\n",
       " 'test_score': array([0.84782609, 0.85405405, 0.8700565 ])}"
      ]
     },
     "execution_count": 251,
     "metadata": {},
     "output_type": "execute_result"
    }
   ],
   "source": [
    "cv_scores = cross_validate(model, X_train_encoded, y_train, cv=3, scoring='precision')\n",
    "cv_scores"
   ]
  },
  {
   "cell_type": "markdown",
   "id": "c1f3d9cf",
   "metadata": {},
   "source": [
    "### **Seasons Encoding**\n",
    "# Spring - 1\n",
    "# Summer - 2\n",
    "# Autumn - 3\n",
    "# Winter - 4"
   ]
  },
  {
   "cell_type": "code",
   "execution_count": null,
   "id": "32134da1",
   "metadata": {},
   "outputs": [],
   "source": [
    "input_data = {\n",
    "    'PKNAME': ['Manaslu'],\n",
    "    'O2USED': [False],\n",
    "    'SEASON': [4],\n",
    "    'NOHIRED' : [0]\n",
    "}\n",
    "\n",
    "input_df = pd.DataFrame(input_data)"
   ]
  },
  {
   "cell_type": "code",
   "execution_count": 253,
   "id": "df31b71b",
   "metadata": {},
   "outputs": [
    {
     "data": {
      "text/html": [
       "<div>\n",
       "<style scoped>\n",
       "    .dataframe tbody tr th:only-of-type {\n",
       "        vertical-align: middle;\n",
       "    }\n",
       "\n",
       "    .dataframe tbody tr th {\n",
       "        vertical-align: top;\n",
       "    }\n",
       "\n",
       "    .dataframe thead th {\n",
       "        text-align: right;\n",
       "    }\n",
       "</style>\n",
       "<table border=\"1\" class=\"dataframe\">\n",
       "  <thead>\n",
       "    <tr style=\"text-align: right;\">\n",
       "      <th></th>\n",
       "      <th>PKNAME</th>\n",
       "      <th>O2USED</th>\n",
       "      <th>SEASON</th>\n",
       "      <th>NOHIRED</th>\n",
       "    </tr>\n",
       "  </thead>\n",
       "  <tbody>\n",
       "    <tr>\n",
       "      <th>0</th>\n",
       "      <td>0.56823</td>\n",
       "      <td>False</td>\n",
       "      <td>4</td>\n",
       "      <td>0</td>\n",
       "    </tr>\n",
       "  </tbody>\n",
       "</table>\n",
       "</div>"
      ],
      "text/plain": [
       "    PKNAME  O2USED  SEASON  NOHIRED\n",
       "0  0.56823   False       4        0"
      ]
     },
     "execution_count": 253,
     "metadata": {},
     "output_type": "execute_result"
    }
   ],
   "source": [
    "input_encoded = encoder.transform(input_df)\n",
    "input_encoded"
   ]
  },
  {
   "cell_type": "code",
   "execution_count": 254,
   "id": "306a03e7",
   "metadata": {},
   "outputs": [
    {
     "data": {
      "text/plain": [
       "array([False])"
      ]
     },
     "execution_count": 254,
     "metadata": {},
     "output_type": "execute_result"
    }
   ],
   "source": [
    "input_pred = model.predict(input_encoded)\n",
    "input_pred"
   ]
  },
  {
   "cell_type": "code",
   "execution_count": 255,
   "id": "fd0ee245",
   "metadata": {},
   "outputs": [
    {
     "name": "stdout",
     "output_type": "stream",
     "text": [
      "Probability of success: 0.44\n"
     ]
    }
   ],
   "source": [
    "input_prob = model.predict_proba(input_encoded)[:, 1]\n",
    "print(f\"Probability of success: {input_prob[0]:.2f}\")"
   ]
  }
 ],
 "metadata": {
  "kernelspec": {
   "display_name": "Python 3",
   "language": "python",
   "name": "python3"
  },
  "language_info": {
   "codemirror_mode": {
    "name": "ipython",
    "version": 3
   },
   "file_extension": ".py",
   "mimetype": "text/x-python",
   "name": "python",
   "nbconvert_exporter": "python",
   "pygments_lexer": "ipython3",
   "version": "3.13.1"
  }
 },
 "nbformat": 4,
 "nbformat_minor": 5
}
