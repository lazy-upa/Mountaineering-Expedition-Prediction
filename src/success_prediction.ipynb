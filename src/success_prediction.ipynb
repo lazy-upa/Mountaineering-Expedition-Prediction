{
 "cells": [
  {
   "cell_type": "code",
   "execution_count": 64,
   "id": "f166b21d",
   "metadata": {},
   "outputs": [],
   "source": [
    "import pandas as pd\n",
    "\n",
    "expedition_data = pd.read_csv(\"../datasets/EXPEDITION_DATA.csv\", encoding='cp1252')\n",
    "peaks_data = pd.read_csv(\"../datasets/PEAKS_DATA.csv\")\n",
    "\n",
    "merged_data = pd.merge(left=expedition_data, right=peaks_data, how='inner', on='PEAKID')"
   ]
  },
  {
   "cell_type": "code",
   "execution_count": 65,
   "id": "b3aaf42a",
   "metadata": {},
   "outputs": [],
   "source": [
    "merged_data.loc[:, 'TOTALDEATHS'] = merged_data['MDEATHS'] + merged_data['HDEATHS']\n",
    "merged_data.loc[:, 'SUCCESS'] =  merged_data['SUCCESS1'].astype(bool) | merged_data['SUCCESS2'].astype(bool)"
   ]
  },
  {
   "cell_type": "code",
   "execution_count": 66,
   "id": "39f95bcd",
   "metadata": {},
   "outputs": [],
   "source": [
    "df = merged_data[['PEAKID', 'EXPID', 'YEAR', 'SEASON', 'SEASON_FACTOR', 'HOST', 'HOST_FACTOR',\n",
    "                  'ROUTE1', 'ROUTE2', 'ROUTE3', 'ROUTE4', 'TOTMEMBERS', 'TERMREASON_FACTOR', 'O2USED', 'O2NONE', 'NOHIRED',\n",
    "                  'TOTALDEATHS', 'PKNAME', 'PKNAME2', 'HEIGHTM', 'HEIGHTF', 'HIMAL_FACTOR',\n",
    "                  'REGION_FACTOR', 'OPEN', 'PYEAR', 'PSTATUS_FACTOR', 'PSMTDATE']]"
   ]
  },
  {
   "cell_type": "code",
   "execution_count": 67,
   "id": "445a6ffa",
   "metadata": {},
   "outputs": [
    {
     "data": {
      "text/plain": [
       "array(['Everest', 'Ama Dablam', 'Baruntse', 'Cho Oyu', 'Gyalzen Peak',\n",
       "       'Himlung Himal', 'Kyungka Ri 2', 'Luza', 'Manaslu', 'Annapurna I',\n",
       "       'Dhaulagiri I', 'Kangchung Shar', 'Lhotse', 'Makalu', 'Pumori',\n",
       "       'Tilicho', 'Tengkangpoche', 'Tukuche', 'Annapurna III', 'Chamlang',\n",
       "       'Chekigo', 'Chobuje', 'Cholatse', 'Dolma Khang', 'Dorje Lhakpa',\n",
       "       'Gyajikang', 'Jannu', 'Kangchenjunga', 'Kangtega', 'Langdung',\n",
       "       'Mariyang', 'Omitso Go', 'Omoga Ri Chang', 'Panbari',\n",
       "       'Purbung Himal', 'Purkhung', 'Putha Hiunchuli', 'Rokapi',\n",
       "       'Surma-Sarovar North', 'Tengkoma', 'Amphu Gyabjen', 'Annapurna IV',\n",
       "       'Dorje Lakpa II', 'Gangapurna', 'Kangchung Nup', 'Nuptse East I',\n",
       "       'Nuptse', 'Phu Kang', 'Pokharkang', 'Ratna Chuli', 'Saula',\n",
       "       'Tengi Ragi Tau South', 'Bhemdang Ri', 'Bhrikuti Shail',\n",
       "       'Chandi Himal', 'Chukyima Go', 'Chumbu', 'Chulu West',\n",
       "       'Dhaulagiri II', 'Dogari', 'Ganchenpo', 'Hongku Chuli', 'Hongku',\n",
       "       'Jannu East', 'Khatung Khang', 'Lamjung Himal', 'Langtang Lirung',\n",
       "       'Lachama Chuli', 'Lachama North', 'Lunag Ri', 'Metalung',\n",
       "       'Nagoru Far East', 'Panalotapa', 'Phungi', 'Ripimo Shar',\n",
       "       'Sat Peak', 'Shershon', 'Sita Chuchura', 'Thamserku', 'Bhrikuti',\n",
       "       'Goldum Peak', 'Jarkya', 'Kabru South', 'Kirat Chuli',\n",
       "       'Langtang Yubra', 'Langpo South', 'Lobuche East', 'Takphu Himal',\n",
       "       'Tengi Ragi Tau', 'Tutse', 'Anidesh Chuli', 'Chhopa Bamare',\n",
       "       'Cho Polu', 'Drohmo', 'Hulang Go', 'Jugal 5', 'Khangri Shar',\n",
       "       'Khamjung', 'Khayang', 'Makalu II', 'Malanphulan', 'Nemjung',\n",
       "       'Phole', 'Phurbi Chhyachu', 'Raksha Urai', 'Rolwaling Kang',\n",
       "       'Sharphu VI', 'Yansa Tsenji', 'Hungchhi', 'Jugal 1', 'Jugal 2',\n",
       "       'Jugal 3', 'Kyabura', 'Lingtren', 'Patrasi Himal', 'Yalung Peak'],\n",
       "      dtype=object)"
      ]
     },
     "execution_count": 67,
     "metadata": {},
     "output_type": "execute_result"
    }
   ],
   "source": [
    "df['PKNAME'].unique()"
   ]
  },
  {
   "cell_type": "code",
   "execution_count": 68,
   "id": "ddad1b6b",
   "metadata": {},
   "outputs": [],
   "source": [
    "from category_encoders import TargetEncoder\n",
    "from sklearn.pipeline import Pipeline\n",
    "from sklearn.preprocessing import OneHotEncoder\n",
    "from sklearn.compose import ColumnTransformer\n",
    "from sklearn.model_selection import train_test_split\n",
    "from sklearn.linear_model import LogisticRegression\n",
    "import matplotlib.pyplot as plt\n",
    "from sklearn.metrics import accuracy_score, r2_score, recall_score, precision_score, f1_score, roc_auc_score,  roc_curve, confusion_matrix"
   ]
  },
  {
   "cell_type": "code",
   "execution_count": 69,
   "id": "64d3d151",
   "metadata": {},
   "outputs": [],
   "source": [
    "features = ['PKNAME', 'O2USED', 'SEASON_FACTOR', 'NOHIRED']\n",
    "target = 'SUCCESS'\n",
    "\n",
    "X = df[features]\n",
    "y = merged_data[target]\n",
    "\n",
    "X_train, X_test, y_train, y_test = train_test_split(X, y, test_size=0.2, random_state=42)"
   ]
  },
  {
   "cell_type": "code",
   "execution_count": 70,
   "id": "6ded743b",
   "metadata": {},
   "outputs": [],
   "source": [
    "# target_encoder = TargetEncoder(cols=['PKNAME'])\n",
    "# X_train_encoded = target_encoder.fit_transform(X_train, y_train)\n",
    "# X_test_encoded = target_encoder.transform(X_test)\n",
    "\n",
    "target_encoded_features = ['PKNAME']\n",
    "onehot_encoded_features = ['SEASON_FACTOR']\n",
    "numeric_features = ['O2USED', 'NOHIRED']\n",
    "\n",
    "preprocessor = ColumnTransformer(\n",
    "    transformers=[\n",
    "        ('target', TargetEncoder(), target_encoded_features),\n",
    "        ('onehot', OneHotEncoder(drop='first'), onehot_encoded_features),\n",
    "    ],\n",
    "    remainder='passthrough'\n",
    ")"
   ]
  },
  {
   "cell_type": "code",
   "execution_count": 71,
   "id": "f2968c47",
   "metadata": {},
   "outputs": [],
   "source": [
    "pipeline = Pipeline(steps=[\n",
    "    ('preprocess', preprocessor),\n",
    "    ('model', LogisticRegression())\n",
    "])"
   ]
  },
  {
   "cell_type": "code",
   "execution_count": 72,
   "id": "182197c6",
   "metadata": {},
   "outputs": [],
   "source": [
    "pipeline.fit(X_train, y_train)\n",
    "\n",
    "y_pred = pipeline.predict(X_test)"
   ]
  },
  {
   "cell_type": "code",
   "execution_count": 73,
   "id": "2e0787e0",
   "metadata": {},
   "outputs": [
    {
     "name": "stdout",
     "output_type": "stream",
     "text": [
      "[[ 22  31]\n",
      " [ 15 109]]\n",
      "{'Accuracy': 0.7401129943502824, 'Recall': 0.8790322580645161, 'Precision': 0.7785714285714286, 'F1': 0.8257575757575758}\n"
     ]
    }
   ],
   "source": [
    "metrics = {\n",
    "        'Accuracy': accuracy_score(y_test, y_pred),\n",
    "        'Recall': recall_score(y_test, y_pred),\n",
    "        'Precision': precision_score(y_test, y_pred),\n",
    "        'F1': f1_score(y_test, y_pred)\n",
    "    }\n",
    "\n",
    "confusionMatrix = confusion_matrix(y_test, y_pred)\n",
    "print(confusionMatrix)\n",
    "\n",
    "print(metrics)"
   ]
  },
  {
   "cell_type": "code",
   "execution_count": 74,
   "id": "5a315444",
   "metadata": {},
   "outputs": [
    {
     "name": "stdout",
     "output_type": "stream",
     "text": [
      "Probability of Success on test data: 0.94\n"
     ]
    }
   ],
   "source": [
    "y_probs = pipeline.predict_proba(X_test)[:, 1]\n",
    "fpr, tpr, thresholds = roc_curve(y_test, y_probs)\n",
    "auc_score = roc_auc_score(y_test, y_probs)\n",
    "print(f\"Probability of Success on test data: {y_probs[0]:.2f}\")"
   ]
  },
  {
   "cell_type": "code",
   "execution_count": 75,
   "id": "f7404935",
   "metadata": {},
   "outputs": [
    {
     "data": {
      "image/png": "[encoded data removed]",
      "text/plain": [
       "<Figure size 800x600 with 1 Axes>"
      ]
     },
     "metadata": {},
     "output_type": "display_data"
    }
   ],
   "source": [
    "plt.figure(figsize=(8, 6))\n",
    "plt.plot(fpr, tpr, label=f\"ROC Curve (AUC = {auc_score:.2f})\", color='red')\n",
    "plt.plot([0, 1], [0, 1], color='black')\n",
    "plt.xlabel(\"False Positive Rate\")\n",
    "plt.ylabel(\"True Positive Rate\")\n",
    "plt.title(\"Receiver Operating Characteristic (ROC) Curve\")\n",
    "plt.legend()\n",
    "plt.grid(True)\n",
    "plt.show()"
   ]
  },
  {
   "cell_type": "code",
   "execution_count": 76,
   "id": "99031485",
   "metadata": {},
   "outputs": [
    {
     "data": {
      "text/plain": [
       "{'fit_time': array([0.02043152, 0.02137375, 0.02241898]),\n",
       " 'score_time': array([0.00687313, 0.00708151, 0.00935268]),\n",
       " 'test_score': array([0.77446809, 0.7787234 , 0.80425532])}"
      ]
     },
     "execution_count": 76,
     "metadata": {},
     "output_type": "execute_result"
    }
   ],
   "source": [
    "from sklearn.model_selection import cross_validate\n",
    "\n",
    "cv_scores = cross_validate(pipeline, X_train, y_train, cv=3, scoring='accuracy')\n",
    "cv_scores"
   ]
  },
  {
   "cell_type": "code",
   "execution_count": 77,
   "id": "1e3e49d6",
   "metadata": {},
   "outputs": [
    {
     "data": {
      "text/plain": [
       "{'fit_time': array([0.02263331, 0.02168536, 0.03718066]),\n",
       " 'score_time': array([0.01141095, 0.01235914, 0.0087564 ]),\n",
       " 'test_score': array([0.85399449, 0.85310734, 0.87078652])}"
      ]
     },
     "execution_count": 77,
     "metadata": {},
     "output_type": "execute_result"
    }
   ],
   "source": [
    "cv_scores = cross_validate(pipeline, X_train, y_train, cv=3, scoring='f1')\n",
    "cv_scores"
   ]
  },
  {
   "cell_type": "code",
   "execution_count": 78,
   "id": "cb230e89",
   "metadata": {},
   "outputs": [
    {
     "data": {
      "text/plain": [
       "{'fit_time': array([0.02442598, 0.01978993, 0.02136159]),\n",
       " 'score_time': array([0.01049089, 0.01080322, 0.00867414]),\n",
       " 'test_score': array([0.92261905, 0.89880952, 0.92261905])}"
      ]
     },
     "execution_count": 78,
     "metadata": {},
     "output_type": "execute_result"
    }
   ],
   "source": [
    "cv_scores = cross_validate(pipeline, X_train, y_train, cv=3, scoring='recall')\n",
    "cv_scores"
   ]
  },
  {
   "cell_type": "code",
   "execution_count": 79,
   "id": "9102408e",
   "metadata": {},
   "outputs": [
    {
     "data": {
      "text/plain": [
       "{'fit_time': array([0.02273059, 0.02743483, 0.02336121]),\n",
       " 'score_time': array([0.0119648 , 0.01079559, 0.01074839]),\n",
       " 'test_score': array([0.79487179, 0.81182796, 0.82446809])}"
      ]
     },
     "execution_count": 79,
     "metadata": {},
     "output_type": "execute_result"
    }
   ],
   "source": [
    "cv_scores = cross_validate(pipeline, X_train, y_train, cv=3, scoring='precision')\n",
    "cv_scores"
   ]
  },
  {
   "cell_type": "code",
   "execution_count": 106,
   "id": "32134da1",
   "metadata": {},
   "outputs": [],
   "source": [
    "input_data = {\n",
    "    'PKNAME': ['Autumn'],\n",
    "    'O2USED': [False],\n",
    "    'SEASON_FACTOR': ['Summer'],\n",
    "    'NOHIRED' : [False]\n",
    "}\n",
    "\n",
    "input_df = pd.DataFrame(input_data)"
   ]
  },
  {
   "cell_type": "code",
   "execution_count": 107,
   "id": "cafd3a26",
   "metadata": {},
   "outputs": [
    {
     "data": {
      "text/plain": [
       "array([ True])"
      ]
     },
     "execution_count": 107,
     "metadata": {},
     "output_type": "execute_result"
    }
   ],
   "source": [
    "input_prediction = pipeline.predict(input_df)\n",
    "input_prediction"
   ]
  },
  {
   "cell_type": "code",
   "execution_count": 108,
   "id": "b74da10d",
   "metadata": {},
   "outputs": [
    {
     "name": "stdout",
     "output_type": "stream",
     "text": [
      "Probability of success: 0.62\n"
     ]
    }
   ],
   "source": [
    "input_prob = pipeline.predict_proba(input_df)[:, 1]\n",
    "print(f\"Probability of success: {input_prob[0]:.2f}\")"
   ]
  },
  {
   "cell_type": "markdown",
   "id": "29088e90",
   "metadata": {},
   "source": [
    "### **Saving Model and Encoder**"
   ]
  },
  {
   "cell_type": "code",
   "execution_count": 110,
   "id": "a787dcc8",
   "metadata": {},
   "outputs": [
    {
     "data": {
      "text/plain": [
       "['saved_model_pipeline.pkl']"
      ]
     },
     "execution_count": 110,
     "metadata": {},
     "output_type": "execute_result"
    }
   ],
   "source": [
    "import joblib\n",
    "\n",
    "joblib.dump(pipeline, 'saved_model_pipeline.pkl')"
   ]
  }
 ],
 "metadata": {
  "kernelspec": {
   "display_name": "Python 3",
   "language": "python",
   "name": "python3"
  },
  "language_info": {
   "codemirror_mode": {
    "name": "ipython",
    "version": 3
   },
   "file_extension": ".py",
   "mimetype": "text/x-python",
   "name": "python",
   "nbconvert_exporter": "python",
   "pygments_lexer": "ipython3",
   "version": "3.13.1"
  }
 },
 "nbformat": 4,
 "nbformat_minor": 5
}
