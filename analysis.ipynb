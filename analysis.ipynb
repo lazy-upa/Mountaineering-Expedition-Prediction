{
 "cells": [
  {
   "cell_type": "markdown",
   "id": "fea7854a",
   "metadata": {},
   "source": [
    "### Importing necessary libraries"
   ]
  },
  {
   "cell_type": "code",
   "execution_count": 118,
   "id": "9c8eadd4",
   "metadata": {},
   "outputs": [],
   "source": [
    "import pandas as pd\n",
    "import matplotlib.pyplot as plt"
   ]
  },
  {
   "cell_type": "markdown",
   "id": "651c4907",
   "metadata": {},
   "source": [
    "### Reading the datasets"
   ]
  },
  {
   "cell_type": "code",
   "execution_count": 119,
   "id": "13f44a7c",
   "metadata": {},
   "outputs": [],
   "source": [
    "expedition_data = pd.read_csv(\"datasets/EXPEDITION_DATA.csv\", encoding='cp1252')\n",
    "peaks_data = pd.read_csv(\"datasets/PEAKS_DATA.csv\")"
   ]
  },
  {
   "cell_type": "markdown",
   "id": "2d2507ec",
   "metadata": {},
   "source": [
    "### Inspecting the datasets"
   ]
  },
  {
   "cell_type": "code",
   "execution_count": 120,
   "id": "36ee1794",
   "metadata": {},
   "outputs": [
    {
     "data": {
      "text/html": [
       "<div>\n",
       "<style scoped>\n",
       "    .dataframe tbody tr th:only-of-type {\n",
       "        vertical-align: middle;\n",
       "    }\n",
       "\n",
       "    .dataframe tbody tr th {\n",
       "        vertical-align: top;\n",
       "    }\n",
       "\n",
       "    .dataframe thead th {\n",
       "        text-align: right;\n",
       "    }\n",
       "</style>\n",
       "<table border=\"1\" class=\"dataframe\">\n",
       "  <thead>\n",
       "    <tr style=\"text-align: right;\">\n",
       "      <th></th>\n",
       "      <th>EXPID</th>\n",
       "      <th>PEAKID</th>\n",
       "      <th>YEAR</th>\n",
       "      <th>SEASON</th>\n",
       "      <th>SEASON_FACTOR</th>\n",
       "      <th>HOST</th>\n",
       "      <th>HOST_FACTOR</th>\n",
       "      <th>ROUTE1</th>\n",
       "      <th>ROUTE2</th>\n",
       "      <th>ROUTE3</th>\n",
       "      <th>...</th>\n",
       "      <th>ACCIDENTS</th>\n",
       "      <th>ACHIEVMENT</th>\n",
       "      <th>AGENCY</th>\n",
       "      <th>COMRTE</th>\n",
       "      <th>STDRTE</th>\n",
       "      <th>PRIMRTE</th>\n",
       "      <th>PRIMMEM</th>\n",
       "      <th>PRIMREF</th>\n",
       "      <th>PRIMID</th>\n",
       "      <th>CHKSUM</th>\n",
       "    </tr>\n",
       "  </thead>\n",
       "  <tbody>\n",
       "    <tr>\n",
       "      <th>0</th>\n",
       "      <td>EVER20101</td>\n",
       "      <td>EVER</td>\n",
       "      <td>2020</td>\n",
       "      <td>1</td>\n",
       "      <td>Spring</td>\n",
       "      <td>2</td>\n",
       "      <td>China</td>\n",
       "      <td>N Col-NE Ridge</td>\n",
       "      <td>NaN</td>\n",
       "      <td>NaN</td>\n",
       "      <td>...</td>\n",
       "      <td>NaN</td>\n",
       "      <td>NaN</td>\n",
       "      <td>Holy Mountain Adventure</td>\n",
       "      <td>True</td>\n",
       "      <td>True</td>\n",
       "      <td>False</td>\n",
       "      <td>False</td>\n",
       "      <td>False</td>\n",
       "      <td>NaN</td>\n",
       "      <td>2465291</td>\n",
       "    </tr>\n",
       "    <tr>\n",
       "      <th>1</th>\n",
       "      <td>EVER20102</td>\n",
       "      <td>EVER</td>\n",
       "      <td>2020</td>\n",
       "      <td>1</td>\n",
       "      <td>Spring</td>\n",
       "      <td>2</td>\n",
       "      <td>China</td>\n",
       "      <td>N Col-NE Ridge</td>\n",
       "      <td>NaN</td>\n",
       "      <td>NaN</td>\n",
       "      <td>...</td>\n",
       "      <td>NaN</td>\n",
       "      <td>NaN</td>\n",
       "      <td>NaN</td>\n",
       "      <td>True</td>\n",
       "      <td>True</td>\n",
       "      <td>False</td>\n",
       "      <td>False</td>\n",
       "      <td>False</td>\n",
       "      <td>NaN</td>\n",
       "      <td>2465292</td>\n",
       "    </tr>\n",
       "    <tr>\n",
       "      <th>2</th>\n",
       "      <td>EVER20103</td>\n",
       "      <td>EVER</td>\n",
       "      <td>2020</td>\n",
       "      <td>1</td>\n",
       "      <td>Spring</td>\n",
       "      <td>2</td>\n",
       "      <td>China</td>\n",
       "      <td>N Col-NE Ridge</td>\n",
       "      <td>NaN</td>\n",
       "      <td>NaN</td>\n",
       "      <td>...</td>\n",
       "      <td>NaN</td>\n",
       "      <td>NaN</td>\n",
       "      <td>Holy Mountain Adventure</td>\n",
       "      <td>True</td>\n",
       "      <td>True</td>\n",
       "      <td>False</td>\n",
       "      <td>False</td>\n",
       "      <td>False</td>\n",
       "      <td>NaN</td>\n",
       "      <td>2465293</td>\n",
       "    </tr>\n",
       "    <tr>\n",
       "      <th>3</th>\n",
       "      <td>AMAD20301</td>\n",
       "      <td>AMAD</td>\n",
       "      <td>2020</td>\n",
       "      <td>3</td>\n",
       "      <td>Autumn</td>\n",
       "      <td>1</td>\n",
       "      <td>Nepal</td>\n",
       "      <td>SW Ridge</td>\n",
       "      <td>NaN</td>\n",
       "      <td>NaN</td>\n",
       "      <td>...</td>\n",
       "      <td>NaN</td>\n",
       "      <td>NaN</td>\n",
       "      <td>Seven Summit Treks</td>\n",
       "      <td>True</td>\n",
       "      <td>False</td>\n",
       "      <td>False</td>\n",
       "      <td>False</td>\n",
       "      <td>False</td>\n",
       "      <td>NaN</td>\n",
       "      <td>2463299</td>\n",
       "    </tr>\n",
       "    <tr>\n",
       "      <th>4</th>\n",
       "      <td>AMAD20302</td>\n",
       "      <td>AMAD</td>\n",
       "      <td>2020</td>\n",
       "      <td>3</td>\n",
       "      <td>Autumn</td>\n",
       "      <td>1</td>\n",
       "      <td>Nepal</td>\n",
       "      <td>SW Ridge</td>\n",
       "      <td>NaN</td>\n",
       "      <td>NaN</td>\n",
       "      <td>...</td>\n",
       "      <td>NaN</td>\n",
       "      <td>NaN</td>\n",
       "      <td>Himalayan Guides</td>\n",
       "      <td>True</td>\n",
       "      <td>False</td>\n",
       "      <td>False</td>\n",
       "      <td>False</td>\n",
       "      <td>False</td>\n",
       "      <td>NaN</td>\n",
       "      <td>2463299</td>\n",
       "    </tr>\n",
       "  </tbody>\n",
       "</table>\n",
       "<p>5 rows × 69 columns</p>\n",
       "</div>"
      ],
      "text/plain": [
       "       EXPID PEAKID  YEAR  SEASON SEASON_FACTOR  HOST HOST_FACTOR  \\\n",
       "0  EVER20101   EVER  2020       1        Spring     2       China   \n",
       "1  EVER20102   EVER  2020       1        Spring     2       China   \n",
       "2  EVER20103   EVER  2020       1        Spring     2       China   \n",
       "3  AMAD20301   AMAD  2020       3        Autumn     1       Nepal   \n",
       "4  AMAD20302   AMAD  2020       3        Autumn     1       Nepal   \n",
       "\n",
       "           ROUTE1 ROUTE2  ROUTE3  ...  ACCIDENTS ACHIEVMENT  \\\n",
       "0  N Col-NE Ridge    NaN     NaN  ...        NaN        NaN   \n",
       "1  N Col-NE Ridge    NaN     NaN  ...        NaN        NaN   \n",
       "2  N Col-NE Ridge    NaN     NaN  ...        NaN        NaN   \n",
       "3        SW Ridge    NaN     NaN  ...        NaN        NaN   \n",
       "4        SW Ridge    NaN     NaN  ...        NaN        NaN   \n",
       "\n",
       "                    AGENCY COMRTE  STDRTE  PRIMRTE  PRIMMEM  PRIMREF PRIMID  \\\n",
       "0  Holy Mountain Adventure   True    True    False    False    False    NaN   \n",
       "1                      NaN   True    True    False    False    False    NaN   \n",
       "2  Holy Mountain Adventure   True    True    False    False    False    NaN   \n",
       "3       Seven Summit Treks   True   False    False    False    False    NaN   \n",
       "4         Himalayan Guides   True   False    False    False    False    NaN   \n",
       "\n",
       "    CHKSUM  \n",
       "0  2465291  \n",
       "1  2465292  \n",
       "2  2465293  \n",
       "3  2463299  \n",
       "4  2463299  \n",
       "\n",
       "[5 rows x 69 columns]"
      ]
     },
     "execution_count": 120,
     "metadata": {},
     "output_type": "execute_result"
    }
   ],
   "source": [
    "expedition_data.head()"
   ]
  },
  {
   "cell_type": "code",
   "execution_count": 121,
   "id": "17a320b6",
   "metadata": {},
   "outputs": [
    {
     "data": {
      "text/html": [
       "<div>\n",
       "<style scoped>\n",
       "    .dataframe tbody tr th:only-of-type {\n",
       "        vertical-align: middle;\n",
       "    }\n",
       "\n",
       "    .dataframe tbody tr th {\n",
       "        vertical-align: top;\n",
       "    }\n",
       "\n",
       "    .dataframe thead th {\n",
       "        text-align: right;\n",
       "    }\n",
       "</style>\n",
       "<table border=\"1\" class=\"dataframe\">\n",
       "  <thead>\n",
       "    <tr style=\"text-align: right;\">\n",
       "      <th></th>\n",
       "      <th>PEAKID</th>\n",
       "      <th>PKNAME</th>\n",
       "      <th>PKNAME2</th>\n",
       "      <th>LOCATION</th>\n",
       "      <th>HEIGHTM</th>\n",
       "      <th>HEIGHTF</th>\n",
       "      <th>HIMAL</th>\n",
       "      <th>HIMAL_FACTOR</th>\n",
       "      <th>REGION</th>\n",
       "      <th>REGION_FACTOR</th>\n",
       "      <th>...</th>\n",
       "      <th>PEAKMEMO</th>\n",
       "      <th>PYEAR</th>\n",
       "      <th>PSEASON</th>\n",
       "      <th>PEXPID</th>\n",
       "      <th>PSMTDATE</th>\n",
       "      <th>PCOUNTRY</th>\n",
       "      <th>PSUMMITERS</th>\n",
       "      <th>PSMTNOTE</th>\n",
       "      <th>REFERMEMO</th>\n",
       "      <th>PHOTOMEMO</th>\n",
       "    </tr>\n",
       "  </thead>\n",
       "  <tbody>\n",
       "    <tr>\n",
       "      <th>0</th>\n",
       "      <td>AMAD</td>\n",
       "      <td>Ama Dablam</td>\n",
       "      <td>Amai Dablang</td>\n",
       "      <td>Khumbu Himal</td>\n",
       "      <td>6814</td>\n",
       "      <td>22356</td>\n",
       "      <td>12</td>\n",
       "      <td>Khumbu</td>\n",
       "      <td>2</td>\n",
       "      <td>Khumbu-Rolwaling-Makalu</td>\n",
       "      <td>...</td>\n",
       "      <td>8.0</td>\n",
       "      <td>1961.0</td>\n",
       "      <td>1</td>\n",
       "      <td>AMAD61101</td>\n",
       "      <td>Mar 13</td>\n",
       "      <td>New Zealand, USA, UK</td>\n",
       "      <td>Mike Gill, Wally Romanes, Barry Bishop, Michae...</td>\n",
       "      <td>NaN</td>\n",
       "      <td>NaN</td>\n",
       "      <td>13.0</td>\n",
       "    </tr>\n",
       "    <tr>\n",
       "      <th>1</th>\n",
       "      <td>AMPG</td>\n",
       "      <td>Amphu Gyabjen</td>\n",
       "      <td>Amphu Gyabien</td>\n",
       "      <td>Khumbu Himal (N of Ama Dablam)</td>\n",
       "      <td>5630</td>\n",
       "      <td>18471</td>\n",
       "      <td>12</td>\n",
       "      <td>Khumbu</td>\n",
       "      <td>2</td>\n",
       "      <td>Khumbu-Rolwaling-Makalu</td>\n",
       "      <td>...</td>\n",
       "      <td>20.0</td>\n",
       "      <td>1953.0</td>\n",
       "      <td>1</td>\n",
       "      <td>AMPG53101</td>\n",
       "      <td>Apr 11</td>\n",
       "      <td>UK</td>\n",
       "      <td>John Hunt, Tom Bourdillon</td>\n",
       "      <td>NaN</td>\n",
       "      <td>NaN</td>\n",
       "      <td>NaN</td>\n",
       "    </tr>\n",
       "    <tr>\n",
       "      <th>2</th>\n",
       "      <td>ANN1</td>\n",
       "      <td>Annapurna I</td>\n",
       "      <td>NaN</td>\n",
       "      <td>Annapurna Himal</td>\n",
       "      <td>8091</td>\n",
       "      <td>26545</td>\n",
       "      <td>1</td>\n",
       "      <td>Annapurna</td>\n",
       "      <td>5</td>\n",
       "      <td>Annapurna-Damodar-Peri</td>\n",
       "      <td>...</td>\n",
       "      <td>23.0</td>\n",
       "      <td>1950.0</td>\n",
       "      <td>1</td>\n",
       "      <td>ANN150101</td>\n",
       "      <td>Jun 03</td>\n",
       "      <td>France</td>\n",
       "      <td>Maurice Herzog, Louis Lachenal</td>\n",
       "      <td>NaN</td>\n",
       "      <td>25.0</td>\n",
       "      <td>26.0</td>\n",
       "    </tr>\n",
       "    <tr>\n",
       "      <th>3</th>\n",
       "      <td>ANN2</td>\n",
       "      <td>Annapurna II</td>\n",
       "      <td>NaN</td>\n",
       "      <td>Annapurna Himal</td>\n",
       "      <td>7937</td>\n",
       "      <td>26040</td>\n",
       "      <td>1</td>\n",
       "      <td>Annapurna</td>\n",
       "      <td>5</td>\n",
       "      <td>Annapurna-Damodar-Peri</td>\n",
       "      <td>...</td>\n",
       "      <td>31.0</td>\n",
       "      <td>1960.0</td>\n",
       "      <td>1</td>\n",
       "      <td>ANN260101</td>\n",
       "      <td>May 17</td>\n",
       "      <td>UK, Nepal</td>\n",
       "      <td>Richard Grant, Chris Bonington, Ang Nyima Sherpa</td>\n",
       "      <td>NaN</td>\n",
       "      <td>33.0</td>\n",
       "      <td>34.0</td>\n",
       "    </tr>\n",
       "    <tr>\n",
       "      <th>4</th>\n",
       "      <td>ANN3</td>\n",
       "      <td>Annapurna III</td>\n",
       "      <td>NaN</td>\n",
       "      <td>Annapurna Himal</td>\n",
       "      <td>7555</td>\n",
       "      <td>24787</td>\n",
       "      <td>1</td>\n",
       "      <td>Annapurna</td>\n",
       "      <td>5</td>\n",
       "      <td>Annapurna-Damodar-Peri</td>\n",
       "      <td>...</td>\n",
       "      <td>35.0</td>\n",
       "      <td>1961.0</td>\n",
       "      <td>1</td>\n",
       "      <td>ANN361101</td>\n",
       "      <td>May 06</td>\n",
       "      <td>India</td>\n",
       "      <td>Mohan S. Kohli, Sonam Gyatso, Sonam Girmi</td>\n",
       "      <td>NaN</td>\n",
       "      <td>NaN</td>\n",
       "      <td>37.0</td>\n",
       "    </tr>\n",
       "  </tbody>\n",
       "</table>\n",
       "<p>5 rows × 29 columns</p>\n",
       "</div>"
      ],
      "text/plain": [
       "  PEAKID         PKNAME        PKNAME2                        LOCATION  \\\n",
       "0   AMAD     Ama Dablam   Amai Dablang                    Khumbu Himal   \n",
       "1   AMPG  Amphu Gyabjen  Amphu Gyabien  Khumbu Himal (N of Ama Dablam)   \n",
       "2   ANN1    Annapurna I            NaN                 Annapurna Himal   \n",
       "3   ANN2   Annapurna II            NaN                 Annapurna Himal   \n",
       "4   ANN3  Annapurna III            NaN                 Annapurna Himal   \n",
       "\n",
       "   HEIGHTM  HEIGHTF  HIMAL HIMAL_FACTOR  REGION            REGION_FACTOR  ...  \\\n",
       "0     6814    22356     12       Khumbu       2  Khumbu-Rolwaling-Makalu  ...   \n",
       "1     5630    18471     12       Khumbu       2  Khumbu-Rolwaling-Makalu  ...   \n",
       "2     8091    26545      1    Annapurna       5   Annapurna-Damodar-Peri  ...   \n",
       "3     7937    26040      1    Annapurna       5   Annapurna-Damodar-Peri  ...   \n",
       "4     7555    24787      1    Annapurna       5   Annapurna-Damodar-Peri  ...   \n",
       "\n",
       "   PEAKMEMO   PYEAR  PSEASON     PEXPID PSMTDATE              PCOUNTRY  \\\n",
       "0       8.0  1961.0        1  AMAD61101   Mar 13  New Zealand, USA, UK   \n",
       "1      20.0  1953.0        1  AMPG53101   Apr 11                    UK   \n",
       "2      23.0  1950.0        1  ANN150101   Jun 03                France   \n",
       "3      31.0  1960.0        1  ANN260101   May 17             UK, Nepal   \n",
       "4      35.0  1961.0        1  ANN361101   May 06                 India   \n",
       "\n",
       "                                          PSUMMITERS  PSMTNOTE REFERMEMO  \\\n",
       "0  Mike Gill, Wally Romanes, Barry Bishop, Michae...       NaN       NaN   \n",
       "1                          John Hunt, Tom Bourdillon       NaN       NaN   \n",
       "2                     Maurice Herzog, Louis Lachenal       NaN      25.0   \n",
       "3   Richard Grant, Chris Bonington, Ang Nyima Sherpa       NaN      33.0   \n",
       "4          Mohan S. Kohli, Sonam Gyatso, Sonam Girmi       NaN       NaN   \n",
       "\n",
       "   PHOTOMEMO  \n",
       "0       13.0  \n",
       "1        NaN  \n",
       "2       26.0  \n",
       "3       34.0  \n",
       "4       37.0  \n",
       "\n",
       "[5 rows x 29 columns]"
      ]
     },
     "execution_count": 121,
     "metadata": {},
     "output_type": "execute_result"
    }
   ],
   "source": [
    "peaks_data.head()"
   ]
  },
  {
   "cell_type": "code",
   "execution_count": 122,
   "id": "e32b5ad3",
   "metadata": {},
   "outputs": [
    {
     "data": {
      "text/plain": [
       "((882, 69), (480, 29))"
      ]
     },
     "execution_count": 122,
     "metadata": {},
     "output_type": "execute_result"
    }
   ],
   "source": [
    "expedition_data.shape, peaks_data.shape"
   ]
  },
  {
   "cell_type": "code",
   "execution_count": 123,
   "id": "8a423b96",
   "metadata": {},
   "outputs": [
    {
     "name": "stdout",
     "output_type": "stream",
     "text": [
      "<class 'pandas.core.frame.DataFrame'>\n",
      "RangeIndex: 480 entries, 0 to 479\n",
      "Data columns (total 29 columns):\n",
      " #   Column          Non-Null Count  Dtype  \n",
      "---  ------          --------------  -----  \n",
      " 0   PEAKID          480 non-null    object \n",
      " 1   PKNAME          480 non-null    object \n",
      " 2   PKNAME2         257 non-null    object \n",
      " 3   LOCATION        479 non-null    object \n",
      " 4   HEIGHTM         480 non-null    int64  \n",
      " 5   HEIGHTF         480 non-null    int64  \n",
      " 6   HIMAL           480 non-null    int64  \n",
      " 7   HIMAL_FACTOR    480 non-null    object \n",
      " 8   REGION          480 non-null    int64  \n",
      " 9   REGION_FACTOR   480 non-null    object \n",
      " 10  OPEN            480 non-null    bool   \n",
      " 11  UNLISTED        480 non-null    bool   \n",
      " 12  TREKKING        480 non-null    bool   \n",
      " 13  TREKYEAR        29 non-null     float64\n",
      " 14  RESTRICT        275 non-null    object \n",
      " 15  PHOST           480 non-null    int64  \n",
      " 16  PHOST_FACTOR    480 non-null    object \n",
      " 17  PSTATUS         480 non-null    int64  \n",
      " 18  PSTATUS_FACTOR  480 non-null    object \n",
      " 19  PEAKMEMO        475 non-null    float64\n",
      " 20  PYEAR           362 non-null    float64\n",
      " 21  PSEASON         480 non-null    int64  \n",
      " 22  PEXPID          360 non-null    object \n",
      " 23  PSMTDATE        357 non-null    object \n",
      " 24  PCOUNTRY        362 non-null    object \n",
      " 25  PSUMMITERS      477 non-null    object \n",
      " 26  PSMTNOTE        76 non-null     object \n",
      " 27  REFERMEMO       19 non-null     float64\n",
      " 28  PHOTOMEMO       78 non-null     float64\n",
      "dtypes: bool(3), float64(5), int64(7), object(14)\n",
      "memory usage: 99.0+ KB\n"
     ]
    }
   ],
   "source": [
    "peaks_data.info()"
   ]
  },
  {
   "cell_type": "code",
   "execution_count": 124,
   "id": "6939269d",
   "metadata": {},
   "outputs": [
    {
     "name": "stdout",
     "output_type": "stream",
     "text": [
      "<class 'pandas.core.frame.DataFrame'>\n",
      "RangeIndex: 882 entries, 0 to 881\n",
      "Data columns (total 69 columns):\n",
      " #   Column             Non-Null Count  Dtype  \n",
      "---  ------             --------------  -----  \n",
      " 0   EXPID              882 non-null    object \n",
      " 1   PEAKID             882 non-null    object \n",
      " 2   YEAR               882 non-null    int64  \n",
      " 3   SEASON             882 non-null    int64  \n",
      " 4   SEASON_FACTOR      882 non-null    object \n",
      " 5   HOST               882 non-null    int64  \n",
      " 6   HOST_FACTOR        882 non-null    object \n",
      " 7   ROUTE1             862 non-null    object \n",
      " 8   ROUTE2             43 non-null     object \n",
      " 9   ROUTE3             0 non-null      float64\n",
      " 10  ROUTE4             0 non-null      float64\n",
      " 11  NATION             882 non-null    object \n",
      " 12  LEADERS            882 non-null    object \n",
      " 13  SPONSOR            882 non-null    object \n",
      " 14  SUCCESS1           882 non-null    bool   \n",
      " 15  SUCCESS2           882 non-null    bool   \n",
      " 16  SUCCESS3           882 non-null    bool   \n",
      " 17  SUCCESS4           882 non-null    bool   \n",
      " 18  ASCENT1            29 non-null     object \n",
      " 19  ASCENT2            1 non-null      object \n",
      " 20  ASCENT3            0 non-null      float64\n",
      " 21  ASCENT4            0 non-null      float64\n",
      " 22  CLAIMED            882 non-null    bool   \n",
      " 23  DISPUTED           882 non-null    bool   \n",
      " 24  COUNTRIES          582 non-null    object \n",
      " 25  APPROACH           328 non-null    object \n",
      " 26  BCDATE             409 non-null    object \n",
      " 27  SMTDATE            795 non-null    object \n",
      " 28  SMTTIME            365 non-null    float64\n",
      " 29  SMTDAYS            882 non-null    int64  \n",
      " 30  TOTDAYS            882 non-null    int64  \n",
      " 31  TERMDATE           338 non-null    object \n",
      " 32  TERMREASON         882 non-null    int64  \n",
      " 33  TERMREASON_FACTOR  882 non-null    object \n",
      " 34  TERMNOTE           209 non-null    object \n",
      " 35  HIGHPOINT          882 non-null    int64  \n",
      " 36  TRAVERSE           882 non-null    bool   \n",
      " 37  SKI                882 non-null    bool   \n",
      " 38  PARAPENTE          882 non-null    bool   \n",
      " 39  CAMPS              882 non-null    int64  \n",
      " 40  ROPE               882 non-null    int64  \n",
      " 41  TOTMEMBERS         882 non-null    int64  \n",
      " 42  SMTMEMBERS         882 non-null    int64  \n",
      " 43  MDEATHS            882 non-null    int64  \n",
      " 44  TOTHIRED           882 non-null    int64  \n",
      " 45  SMTHIRED           882 non-null    int64  \n",
      " 46  HDEATHS            882 non-null    int64  \n",
      " 47  NOHIRED            882 non-null    bool   \n",
      " 48  O2USED             882 non-null    bool   \n",
      " 49  O2NONE             882 non-null    bool   \n",
      " 50  O2CLIMB            882 non-null    bool   \n",
      " 51  O2DESCENT          882 non-null    bool   \n",
      " 52  O2SLEEP            882 non-null    bool   \n",
      " 53  O2MEDICAL          882 non-null    bool   \n",
      " 54  O2TAKEN            882 non-null    bool   \n",
      " 55  O2UNKWN            882 non-null    bool   \n",
      " 56  OTHERSMTS          148 non-null    object \n",
      " 57  CAMPSITES          845 non-null    object \n",
      " 58  ROUTEMEMO          528 non-null    float64\n",
      " 59  ACCIDENTS          12 non-null     object \n",
      " 60  ACHIEVMENT         25 non-null     object \n",
      " 61  AGENCY             857 non-null    object \n",
      " 62  COMRTE             882 non-null    bool   \n",
      " 63  STDRTE             882 non-null    bool   \n",
      " 64  PRIMRTE            882 non-null    bool   \n",
      " 65  PRIMMEM            882 non-null    bool   \n",
      " 66  PRIMREF            882 non-null    bool   \n",
      " 67  PRIMID             67 non-null     object \n",
      " 68  CHKSUM             882 non-null    int64  \n",
      "dtypes: bool(23), float64(6), int64(16), object(24)\n",
      "memory usage: 336.9+ KB\n"
     ]
    }
   ],
   "source": [
    "expedition_data.info()"
   ]
  },
  {
   "cell_type": "markdown",
   "id": "0be499dc",
   "metadata": {},
   "source": [
    "### Merging the two datasets using inner join"
   ]
  },
  {
   "cell_type": "code",
   "execution_count": 125,
   "id": "566443c5",
   "metadata": {},
   "outputs": [
    {
     "data": {
      "text/plain": [
       "((882, 97),\n",
       " Index(['EXPID', 'PEAKID', 'YEAR', 'SEASON', 'SEASON_FACTOR', 'HOST',\n",
       "        'HOST_FACTOR', 'ROUTE1', 'ROUTE2', 'ROUTE3', 'ROUTE4', 'NATION',\n",
       "        'LEADERS', 'SPONSOR', 'SUCCESS1', 'SUCCESS2', 'SUCCESS3', 'SUCCESS4',\n",
       "        'ASCENT1', 'ASCENT2', 'ASCENT3', 'ASCENT4', 'CLAIMED', 'DISPUTED',\n",
       "        'COUNTRIES', 'APPROACH', 'BCDATE', 'SMTDATE', 'SMTTIME', 'SMTDAYS',\n",
       "        'TOTDAYS', 'TERMDATE', 'TERMREASON', 'TERMREASON_FACTOR', 'TERMNOTE',\n",
       "        'HIGHPOINT', 'TRAVERSE', 'SKI', 'PARAPENTE', 'CAMPS', 'ROPE',\n",
       "        'TOTMEMBERS', 'SMTMEMBERS', 'MDEATHS', 'TOTHIRED', 'SMTHIRED',\n",
       "        'HDEATHS', 'NOHIRED', 'O2USED', 'O2NONE', 'O2CLIMB', 'O2DESCENT',\n",
       "        'O2SLEEP', 'O2MEDICAL', 'O2TAKEN', 'O2UNKWN', 'OTHERSMTS', 'CAMPSITES',\n",
       "        'ROUTEMEMO', 'ACCIDENTS', 'ACHIEVMENT', 'AGENCY', 'COMRTE', 'STDRTE',\n",
       "        'PRIMRTE', 'PRIMMEM', 'PRIMREF', 'PRIMID', 'CHKSUM', 'PKNAME',\n",
       "        'PKNAME2', 'LOCATION', 'HEIGHTM', 'HEIGHTF', 'HIMAL', 'HIMAL_FACTOR',\n",
       "        'REGION', 'REGION_FACTOR', 'OPEN', 'UNLISTED', 'TREKKING', 'TREKYEAR',\n",
       "        'RESTRICT', 'PHOST', 'PHOST_FACTOR', 'PSTATUS', 'PSTATUS_FACTOR',\n",
       "        'PEAKMEMO', 'PYEAR', 'PSEASON', 'PEXPID', 'PSMTDATE', 'PCOUNTRY',\n",
       "        'PSUMMITERS', 'PSMTNOTE', 'REFERMEMO', 'PHOTOMEMO'],\n",
       "       dtype='object'))"
      ]
     },
     "execution_count": 125,
     "metadata": {},
     "output_type": "execute_result"
    }
   ],
   "source": [
    "merged_data = pd.merge(left=expedition_data, right=peaks_data, how='inner', on='PEAKID')\n",
    "\n",
    "merged_data.shape, merged_data.columns"
   ]
  },
  {
   "cell_type": "markdown",
   "id": "e2767b48",
   "metadata": {},
   "source": [
    "### Filtering out useless columns/features"
   ]
  },
  {
   "cell_type": "code",
   "execution_count": 126,
   "id": "28da33c8",
   "metadata": {},
   "outputs": [],
   "source": [
    "#df is the final dataframe to be analyzed\n",
    "df = merged_data[['PEAKID', 'EXPID', 'YEAR', 'SEASON', 'SEASON_FACTOR', 'HOST', 'HOST_FACTOR',\n",
    "                  'ROUTE1', 'ROUTE2', 'ROUTE3', 'ROUTE4', 'TOTMEMBERS', 'SUCCESS1', 'SUCCESS2',\n",
    "                  'SUCCESS3', 'SUCCESS4', 'TERMREASON_FACTOR', 'O2USED', 'O2NONE', 'NOHIRED',\n",
    "                  'MDEATHS', 'HDEATHS', 'PKNAME', 'PKNAME2', 'HEIGHTM', 'HEIGHTF', 'HIMAL_FACTOR',\n",
    "                  'REGION_FACTOR', 'OPEN', 'PYEAR', 'PSTATUS_FACTOR', 'PSMTDATE']]"
   ]
  },
  {
   "cell_type": "code",
   "execution_count": 127,
   "id": "4019ed63",
   "metadata": {},
   "outputs": [
    {
     "data": {
      "text/html": [
       "<div>\n",
       "<style scoped>\n",
       "    .dataframe tbody tr th:only-of-type {\n",
       "        vertical-align: middle;\n",
       "    }\n",
       "\n",
       "    .dataframe tbody tr th {\n",
       "        vertical-align: top;\n",
       "    }\n",
       "\n",
       "    .dataframe thead th {\n",
       "        text-align: right;\n",
       "    }\n",
       "</style>\n",
       "<table border=\"1\" class=\"dataframe\">\n",
       "  <thead>\n",
       "    <tr style=\"text-align: right;\">\n",
       "      <th></th>\n",
       "      <th>PEAKID</th>\n",
       "      <th>EXPID</th>\n",
       "      <th>YEAR</th>\n",
       "      <th>SEASON</th>\n",
       "      <th>SEASON_FACTOR</th>\n",
       "      <th>HOST</th>\n",
       "      <th>HOST_FACTOR</th>\n",
       "      <th>ROUTE1</th>\n",
       "      <th>ROUTE2</th>\n",
       "      <th>ROUTE3</th>\n",
       "      <th>...</th>\n",
       "      <th>PKNAME</th>\n",
       "      <th>PKNAME2</th>\n",
       "      <th>HEIGHTM</th>\n",
       "      <th>HEIGHTF</th>\n",
       "      <th>HIMAL_FACTOR</th>\n",
       "      <th>REGION_FACTOR</th>\n",
       "      <th>OPEN</th>\n",
       "      <th>PYEAR</th>\n",
       "      <th>PSTATUS_FACTOR</th>\n",
       "      <th>PSMTDATE</th>\n",
       "    </tr>\n",
       "  </thead>\n",
       "  <tbody>\n",
       "    <tr>\n",
       "      <th>0</th>\n",
       "      <td>EVER</td>\n",
       "      <td>EVER20101</td>\n",
       "      <td>2020</td>\n",
       "      <td>1</td>\n",
       "      <td>Spring</td>\n",
       "      <td>2</td>\n",
       "      <td>China</td>\n",
       "      <td>N Col-NE Ridge</td>\n",
       "      <td>NaN</td>\n",
       "      <td>NaN</td>\n",
       "      <td>...</td>\n",
       "      <td>Everest</td>\n",
       "      <td>Sagarmatha, Chomolungma, Qomolungma</td>\n",
       "      <td>8849</td>\n",
       "      <td>29032</td>\n",
       "      <td>Khumbu</td>\n",
       "      <td>Khumbu-Rolwaling-Makalu</td>\n",
       "      <td>True</td>\n",
       "      <td>1953.0</td>\n",
       "      <td>Climbed</td>\n",
       "      <td>May 29</td>\n",
       "    </tr>\n",
       "    <tr>\n",
       "      <th>1</th>\n",
       "      <td>EVER</td>\n",
       "      <td>EVER20102</td>\n",
       "      <td>2020</td>\n",
       "      <td>1</td>\n",
       "      <td>Spring</td>\n",
       "      <td>2</td>\n",
       "      <td>China</td>\n",
       "      <td>N Col-NE Ridge</td>\n",
       "      <td>NaN</td>\n",
       "      <td>NaN</td>\n",
       "      <td>...</td>\n",
       "      <td>Everest</td>\n",
       "      <td>Sagarmatha, Chomolungma, Qomolungma</td>\n",
       "      <td>8849</td>\n",
       "      <td>29032</td>\n",
       "      <td>Khumbu</td>\n",
       "      <td>Khumbu-Rolwaling-Makalu</td>\n",
       "      <td>True</td>\n",
       "      <td>1953.0</td>\n",
       "      <td>Climbed</td>\n",
       "      <td>May 29</td>\n",
       "    </tr>\n",
       "    <tr>\n",
       "      <th>2</th>\n",
       "      <td>EVER</td>\n",
       "      <td>EVER20103</td>\n",
       "      <td>2020</td>\n",
       "      <td>1</td>\n",
       "      <td>Spring</td>\n",
       "      <td>2</td>\n",
       "      <td>China</td>\n",
       "      <td>N Col-NE Ridge</td>\n",
       "      <td>NaN</td>\n",
       "      <td>NaN</td>\n",
       "      <td>...</td>\n",
       "      <td>Everest</td>\n",
       "      <td>Sagarmatha, Chomolungma, Qomolungma</td>\n",
       "      <td>8849</td>\n",
       "      <td>29032</td>\n",
       "      <td>Khumbu</td>\n",
       "      <td>Khumbu-Rolwaling-Makalu</td>\n",
       "      <td>True</td>\n",
       "      <td>1953.0</td>\n",
       "      <td>Climbed</td>\n",
       "      <td>May 29</td>\n",
       "    </tr>\n",
       "    <tr>\n",
       "      <th>3</th>\n",
       "      <td>AMAD</td>\n",
       "      <td>AMAD20301</td>\n",
       "      <td>2020</td>\n",
       "      <td>3</td>\n",
       "      <td>Autumn</td>\n",
       "      <td>1</td>\n",
       "      <td>Nepal</td>\n",
       "      <td>SW Ridge</td>\n",
       "      <td>NaN</td>\n",
       "      <td>NaN</td>\n",
       "      <td>...</td>\n",
       "      <td>Ama Dablam</td>\n",
       "      <td>Amai Dablang</td>\n",
       "      <td>6814</td>\n",
       "      <td>22356</td>\n",
       "      <td>Khumbu</td>\n",
       "      <td>Khumbu-Rolwaling-Makalu</td>\n",
       "      <td>True</td>\n",
       "      <td>1961.0</td>\n",
       "      <td>Climbed</td>\n",
       "      <td>Mar 13</td>\n",
       "    </tr>\n",
       "    <tr>\n",
       "      <th>4</th>\n",
       "      <td>AMAD</td>\n",
       "      <td>AMAD20302</td>\n",
       "      <td>2020</td>\n",
       "      <td>3</td>\n",
       "      <td>Autumn</td>\n",
       "      <td>1</td>\n",
       "      <td>Nepal</td>\n",
       "      <td>SW Ridge</td>\n",
       "      <td>NaN</td>\n",
       "      <td>NaN</td>\n",
       "      <td>...</td>\n",
       "      <td>Ama Dablam</td>\n",
       "      <td>Amai Dablang</td>\n",
       "      <td>6814</td>\n",
       "      <td>22356</td>\n",
       "      <td>Khumbu</td>\n",
       "      <td>Khumbu-Rolwaling-Makalu</td>\n",
       "      <td>True</td>\n",
       "      <td>1961.0</td>\n",
       "      <td>Climbed</td>\n",
       "      <td>Mar 13</td>\n",
       "    </tr>\n",
       "  </tbody>\n",
       "</table>\n",
       "<p>5 rows × 32 columns</p>\n",
       "</div>"
      ],
      "text/plain": [
       "  PEAKID      EXPID  YEAR  SEASON SEASON_FACTOR  HOST HOST_FACTOR  \\\n",
       "0   EVER  EVER20101  2020       1        Spring     2       China   \n",
       "1   EVER  EVER20102  2020       1        Spring     2       China   \n",
       "2   EVER  EVER20103  2020       1        Spring     2       China   \n",
       "3   AMAD  AMAD20301  2020       3        Autumn     1       Nepal   \n",
       "4   AMAD  AMAD20302  2020       3        Autumn     1       Nepal   \n",
       "\n",
       "           ROUTE1 ROUTE2  ROUTE3  ...      PKNAME  \\\n",
       "0  N Col-NE Ridge    NaN     NaN  ...     Everest   \n",
       "1  N Col-NE Ridge    NaN     NaN  ...     Everest   \n",
       "2  N Col-NE Ridge    NaN     NaN  ...     Everest   \n",
       "3        SW Ridge    NaN     NaN  ...  Ama Dablam   \n",
       "4        SW Ridge    NaN     NaN  ...  Ama Dablam   \n",
       "\n",
       "                               PKNAME2  HEIGHTM  HEIGHTF  HIMAL_FACTOR  \\\n",
       "0  Sagarmatha, Chomolungma, Qomolungma     8849    29032        Khumbu   \n",
       "1  Sagarmatha, Chomolungma, Qomolungma     8849    29032        Khumbu   \n",
       "2  Sagarmatha, Chomolungma, Qomolungma     8849    29032        Khumbu   \n",
       "3                         Amai Dablang     6814    22356        Khumbu   \n",
       "4                         Amai Dablang     6814    22356        Khumbu   \n",
       "\n",
       "             REGION_FACTOR  OPEN   PYEAR  PSTATUS_FACTOR  PSMTDATE  \n",
       "0  Khumbu-Rolwaling-Makalu  True  1953.0         Climbed    May 29  \n",
       "1  Khumbu-Rolwaling-Makalu  True  1953.0         Climbed    May 29  \n",
       "2  Khumbu-Rolwaling-Makalu  True  1953.0         Climbed    May 29  \n",
       "3  Khumbu-Rolwaling-Makalu  True  1961.0         Climbed    Mar 13  \n",
       "4  Khumbu-Rolwaling-Makalu  True  1961.0         Climbed    Mar 13  \n",
       "\n",
       "[5 rows x 32 columns]"
      ]
     },
     "execution_count": 127,
     "metadata": {},
     "output_type": "execute_result"
    }
   ],
   "source": [
    "df.head()"
   ]
  },
  {
   "cell_type": "code",
   "execution_count": 128,
   "id": "94f02a2a",
   "metadata": {},
   "outputs": [
    {
     "name": "stdout",
     "output_type": "stream",
     "text": [
      "<class 'pandas.core.frame.DataFrame'>\n",
      "RangeIndex: 882 entries, 0 to 881\n",
      "Data columns (total 32 columns):\n",
      " #   Column             Non-Null Count  Dtype  \n",
      "---  ------             --------------  -----  \n",
      " 0   PEAKID             882 non-null    object \n",
      " 1   EXPID              882 non-null    object \n",
      " 2   YEAR               882 non-null    int64  \n",
      " 3   SEASON             882 non-null    int64  \n",
      " 4   SEASON_FACTOR      882 non-null    object \n",
      " 5   HOST               882 non-null    int64  \n",
      " 6   HOST_FACTOR        882 non-null    object \n",
      " 7   ROUTE1             862 non-null    object \n",
      " 8   ROUTE2             43 non-null     object \n",
      " 9   ROUTE3             0 non-null      float64\n",
      " 10  ROUTE4             0 non-null      float64\n",
      " 11  TOTMEMBERS         882 non-null    int64  \n",
      " 12  SUCCESS1           882 non-null    bool   \n",
      " 13  SUCCESS2           882 non-null    bool   \n",
      " 14  SUCCESS3           882 non-null    bool   \n",
      " 15  SUCCESS4           882 non-null    bool   \n",
      " 16  TERMREASON_FACTOR  882 non-null    object \n",
      " 17  O2USED             882 non-null    bool   \n",
      " 18  O2NONE             882 non-null    bool   \n",
      " 19  NOHIRED            882 non-null    bool   \n",
      " 20  MDEATHS            882 non-null    int64  \n",
      " 21  HDEATHS            882 non-null    int64  \n",
      " 22  PKNAME             882 non-null    object \n",
      " 23  PKNAME2            531 non-null    object \n",
      " 24  HEIGHTM            882 non-null    int64  \n",
      " 25  HEIGHTF            882 non-null    int64  \n",
      " 26  HIMAL_FACTOR       882 non-null    object \n",
      " 27  REGION_FACTOR      882 non-null    object \n",
      " 28  OPEN               882 non-null    bool   \n",
      " 29  PYEAR              861 non-null    float64\n",
      " 30  PSTATUS_FACTOR     882 non-null    object \n",
      " 31  PSMTDATE           861 non-null    object \n",
      "dtypes: bool(8), float64(3), int64(8), object(13)\n",
      "memory usage: 172.4+ KB\n"
     ]
    }
   ],
   "source": [
    "df.info()"
   ]
  },
  {
   "cell_type": "code",
   "execution_count": 129,
   "id": "f24e3081",
   "metadata": {},
   "outputs": [
    {
     "data": {
      "text/plain": [
       "PEAKID                 0\n",
       "EXPID                  0\n",
       "YEAR                   0\n",
       "SEASON                 0\n",
       "SEASON_FACTOR          0\n",
       "HOST                   0\n",
       "HOST_FACTOR            0\n",
       "ROUTE1                20\n",
       "ROUTE2               839\n",
       "ROUTE3               882\n",
       "ROUTE4               882\n",
       "TOTMEMBERS             0\n",
       "SUCCESS1               0\n",
       "SUCCESS2               0\n",
       "SUCCESS3               0\n",
       "SUCCESS4               0\n",
       "TERMREASON_FACTOR      0\n",
       "O2USED                 0\n",
       "O2NONE                 0\n",
       "NOHIRED                0\n",
       "MDEATHS                0\n",
       "HDEATHS                0\n",
       "PKNAME                 0\n",
       "PKNAME2              351\n",
       "HEIGHTM                0\n",
       "HEIGHTF                0\n",
       "HIMAL_FACTOR           0\n",
       "REGION_FACTOR          0\n",
       "OPEN                   0\n",
       "PYEAR                 21\n",
       "PSTATUS_FACTOR         0\n",
       "PSMTDATE              21\n",
       "dtype: int64"
      ]
     },
     "execution_count": 129,
     "metadata": {},
     "output_type": "execute_result"
    }
   ],
   "source": [
    "df.isnull().sum()"
   ]
  },
  {
   "cell_type": "markdown",
   "id": "6ddac18e",
   "metadata": {},
   "source": [
    "### Analyzing the dataframe to gather insights"
   ]
  },
  {
   "cell_type": "markdown",
   "id": "230e3823",
   "metadata": {},
   "source": [
    "### **1. Finding how expedition count has changed over the years**"
   ]
  },
  {
   "cell_type": "code",
   "execution_count": 130,
   "id": "51416287",
   "metadata": {},
   "outputs": [
    {
     "data": {
      "text/plain": [
       "array([2020, 2021, 2022, 2023, 2024])"
      ]
     },
     "execution_count": 130,
     "metadata": {},
     "output_type": "execute_result"
    }
   ],
   "source": [
    "df['YEAR'].unique()"
   ]
  },
  {
   "cell_type": "code",
   "execution_count": 131,
   "id": "64312a0a",
   "metadata": {},
   "outputs": [],
   "source": [
    "year_counts = df.groupby('YEAR')['TOTMEMBERS'].sum()"
   ]
  },
  {
   "cell_type": "code",
   "execution_count": 132,
   "id": "9258e8cd",
   "metadata": {},
   "outputs": [
    {
     "data": {
      "text/plain": [
       "Text(0.5, 1.0, 'Years vs Expedition Bar Chart')"
      ]
     },
     "execution_count": 132,
     "metadata": {},
     "output_type": "execute_result"
    },
    {
     "data": {
      "image/png": "[encoded data removed]",
      "text/plain": [
       "<Figure size 640x480 with 1 Axes>"
      ]
     },
     "metadata": {},
     "output_type": "display_data"
    }
   ],
   "source": [
    "plt.bar(year_counts.index, year_counts.values)\n",
    "plt.xlabel('Years')\n",
    "plt.ylabel('Total Members')\n",
    "plt.title('Years vs Expedition Bar Chart')"
   ]
  },
  {
   "cell_type": "markdown",
   "id": "dd8a8759",
   "metadata": {},
   "source": [
    "## It can be seen that the expedition peaked during 2022 and 2023.\n",
    "## It can be noted that 2020 had the least expedition probably due to corona virus."
   ]
  },
  {
   "cell_type": "markdown",
   "id": "75c651a4",
   "metadata": {},
   "source": [
    "### **2. Popular seasons for expeditions**"
   ]
  },
  {
   "cell_type": "code",
   "execution_count": 133,
   "id": "b5259798",
   "metadata": {},
   "outputs": [
    {
     "data": {
      "text/plain": [
       "SEASON_FACTOR\n",
       "Autumn    3334\n",
       "Spring    3787\n",
       "Summer      11\n",
       "Winter      94\n",
       "Name: TOTMEMBERS, dtype: int64"
      ]
     },
     "execution_count": 133,
     "metadata": {},
     "output_type": "execute_result"
    }
   ],
   "source": [
    "seasons = df.groupby('SEASON_FACTOR')['TOTMEMBERS'].sum()\n",
    "seasons"
   ]
  },
  {
   "cell_type": "code",
   "execution_count": 134,
   "id": "259a1cde",
   "metadata": {},
   "outputs": [
    {
     "data": {
      "text/plain": [
       "Text(0.5, 1.0, 'Seasons vs Expedition Bar Chart')"
      ]
     },
     "execution_count": 134,
     "metadata": {},
     "output_type": "execute_result"
    },
    {
     "data": {
      "image/png": "[encoded data removed]",
      "text/plain": [
       "<Figure size 640x480 with 1 Axes>"
      ]
     },
     "metadata": {},
     "output_type": "display_data"
    }
   ],
   "source": [
    "plt.bar(seasons.index, seasons.values)\n",
    "plt.xlabel('Seasons')\n",
    "plt.ylabel('Total Members')\n",
    "plt.title('Seasons vs Expedition Bar Chart')"
   ]
  },
  {
   "cell_type": "markdown",
   "id": "9e000009",
   "metadata": {},
   "source": [
    "### **3. Finding which country has the most expedition**"
   ]
  },
  {
   "cell_type": "code",
   "execution_count": 135,
   "id": "855c3baa",
   "metadata": {},
   "outputs": [],
   "source": [
    "host_countries = df.groupby(by='HOST_FACTOR')['TOTMEMBERS'].sum()"
   ]
  },
  {
   "cell_type": "code",
   "execution_count": 136,
   "id": "68c77c08",
   "metadata": {},
   "outputs": [
    {
     "data": {
      "text/plain": [
       "Text(0.5, 1.0, 'Host Countries vs Expedition Horizontal Bar Chart')"
      ]
     },
     "execution_count": 136,
     "metadata": {},
     "output_type": "execute_result"
    },
    {
     "data": {
      "image/png": "[encoded data removed]",
      "text/plain": [
       "<Figure size 640x480 with 1 Axes>"
      ]
     },
     "metadata": {},
     "output_type": "display_data"
    }
   ],
   "source": [
    "plt.bar(host_countries.index, host_countries.values)\n",
    "plt.xlabel('Host Countries')\n",
    "plt.ylabel('Expeditions')\n",
    "plt.title('Host Countries vs Expedition Horizontal Bar Chart')"
   ]
  },
  {
   "cell_type": "markdown",
   "id": "18dbde49",
   "metadata": {},
   "source": [
    "### **4. Finding Highest average mountain range.** "
   ]
  },
  {
   "cell_type": "code",
   "execution_count": 137,
   "id": "39eb6ad2",
   "metadata": {},
   "outputs": [
    {
     "data": {
      "text/plain": [
       "np.int64(766)"
      ]
     },
     "execution_count": 137,
     "metadata": {},
     "output_type": "execute_result"
    }
   ],
   "source": [
    "df['PKNAME'].duplicated().sum()"
   ]
  },
  {
   "cell_type": "code",
   "execution_count": 138,
   "id": "7f107655",
   "metadata": {},
   "outputs": [],
   "source": [
    "highest_average_range = df.groupby('HIMAL_FACTOR')['HEIGHTM'].mean().sort_values(ascending=False)"
   ]
  },
  {
   "cell_type": "code",
   "execution_count": 139,
   "id": "afee3a05",
   "metadata": {},
   "outputs": [
    {
     "data": {
      "image/png": "[encoded data removed]",
      "text/plain": [
       "<Figure size 640x480 with 1 Axes>"
      ]
     },
     "metadata": {},
     "output_type": "display_data"
    }
   ],
   "source": [
    "plt.barh(highest_average_range.index, highest_average_range.values)\n",
    "plt.ylabel('Mountain Range')\n",
    "plt.xlabel('Height(meters)')\n",
    "plt.title('Mountain Range vs Height')\n",
    "plt.tight_layout()"
   ]
  },
  {
   "cell_type": "code",
   "execution_count": 140,
   "id": "83d6bf0f",
   "metadata": {},
   "outputs": [
    {
     "name": "stdout",
     "output_type": "stream",
     "text": [
      "Makalu has the highest average peak height of 8326.827586206897 meters.\n"
     ]
    }
   ],
   "source": [
    "highest_average_range_name = df.groupby('HIMAL_FACTOR')['HEIGHTM'].mean().sort_values(ascending=False).idxmax()\n",
    "highest_average_range_height = df.groupby('HIMAL_FACTOR')['HEIGHTM'].mean().max()\n",
    "\n",
    "print(f'{highest_average_range_name} has the highest average peak height of {highest_average_range_height} meters.')"
   ]
  },
  {
   "cell_type": "markdown",
   "id": "84351220",
   "metadata": {},
   "source": [
    "### **5. Climbing statuses across different mountain range.**"
   ]
  },
  {
   "cell_type": "code",
   "execution_count": 141,
   "id": "4d0cbd3f",
   "metadata": {},
   "outputs": [],
   "source": [
    "climbing_status = df.groupby('HIMAL_FACTOR')['PSTATUS_FACTOR'].value_counts().unstack()"
   ]
  },
  {
   "cell_type": "code",
   "execution_count": 142,
   "id": "ea1ae004",
   "metadata": {},
   "outputs": [
    {
     "data": {
      "text/plain": [
       "Text(0.5, 1.0, 'Distribution of climbing statuses across different mountain ranges')"
      ]
     },
     "execution_count": 142,
     "metadata": {},
     "output_type": "execute_result"
    },
    {
     "data": {
      "text/plain": [
       "<Figure size 1500x1200 with 0 Axes>"
      ]
     },
     "metadata": {},
     "output_type": "display_data"
    },
    {
     "data": {
      "image/png": "[encoded data removed]",
      "text/plain": [
       "<Figure size 640x480 with 1 Axes>"
      ]
     },
     "metadata": {},
     "output_type": "display_data"
    }
   ],
   "source": [
    "plt.figure(figsize=(15, 12))\n",
    "climbing_status.plot(kind='bar', colormap='Paired')\n",
    "plt.xlabel('Mountain Range')\n",
    "plt.ylabel('Frequency')\n",
    "plt.title('Distribution of climbing statuses across different mountain ranges')"
   ]
  },
  {
   "cell_type": "markdown",
   "id": "3106770a",
   "metadata": {},
   "source": [
    "It can be seen that there is little to no unclimbed peaks at all."
   ]
  },
  {
   "cell_type": "markdown",
   "id": "ab109abf",
   "metadata": {},
   "source": [
    "### **6. Difference between peak heights of open and close mountains.**"
   ]
  },
  {
   "cell_type": "code",
   "execution_count": null,
   "id": "d0004ff0",
   "metadata": {},
   "outputs": [],
   "source": []
  }
 ],
 "metadata": {
  "kernelspec": {
   "display_name": "Python 3",
   "language": "python",
   "name": "python3"
  },
  "language_info": {
   "codemirror_mode": {
    "name": "ipython",
    "version": 3
   },
   "file_extension": ".py",
   "mimetype": "text/x-python",
   "name": "python",
   "nbconvert_exporter": "python",
   "pygments_lexer": "ipython3",
   "version": "3.13.1"
  }
 },
 "nbformat": 4,
 "nbformat_minor": 5
}
